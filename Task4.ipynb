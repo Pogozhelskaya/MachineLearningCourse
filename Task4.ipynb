{
  "cells": [
    {
      "cell_type": "markdown",
      "metadata": {
        "id": "view-in-github",
        "colab_type": "text"
      },
      "source": [
        "<a href=\"https://colab.research.google.com/github/Pogozhelskaya/MachineLearningCourse/blob/main/Task4.ipynb\" target=\"_parent\"><img src=\"https://colab.research.google.com/assets/colab-badge.svg\" alt=\"Open In Colab\"/></a>"
      ]
    },
    {
      "cell_type": "code",
      "execution_count": 12,
      "metadata": {
        "id": "hrqa5iMzN70c"
      },
      "outputs": [],
      "source": [
        "import torch\n",
        "import torchvision\n",
        "import torchvision.transforms as transforms\n",
        "import torch.nn as nn\n",
        "import torch.nn.functional as F\n",
        "import torch.optim as optim\n",
        "import matplotlib.pyplot as plt\n",
        "import numpy as np"
      ]
    },
    {
      "cell_type": "code",
      "execution_count": 13,
      "metadata": {
        "id": "ppJhu9xMVflg"
      },
      "outputs": [],
      "source": [
        "# Device configuration\n",
        "device = torch.device(\"cuda:0\" if torch.cuda.is_available() else \"cpu\")"
      ]
    },
    {
      "cell_type": "code",
      "execution_count": 14,
      "metadata": {
        "colab": {
          "base_uri": "https://localhost:8080/"
        },
        "id": "ZmL_14U8PD5Y",
        "outputId": "ddce6ef0-480c-42d9-a156-cb81430fd233"
      },
      "outputs": [
        {
          "output_type": "stream",
          "name": "stdout",
          "text": [
            "Files already downloaded and verified\n",
            "Files already downloaded and verified\n"
          ]
        },
        {
          "output_type": "stream",
          "name": "stderr",
          "text": [
            "/usr/local/lib/python3.7/dist-packages/torch/utils/data/dataloader.py:481: UserWarning: This DataLoader will create 8 worker processes in total. Our suggested max number of worker in current system is 2, which is smaller than what this DataLoader is going to create. Please be aware that excessive worker creation might get DataLoader running slow or even freeze, lower the worker number to avoid potential slowness/freeze if necessary.\n",
            "  cpuset_checked))\n"
          ]
        }
      ],
      "source": [
        "train_transform = transforms.Compose(\n",
        "    [transforms.RandomHorizontalFlip(),\n",
        "     transforms.ToTensor(),\n",
        "     transforms.Normalize((0.5, 0.5, 0.5), (0.5, 0.5, 0.5))]\n",
        ")\n",
        "\n",
        "test_transform = transforms.Compose(\n",
        "    [transforms.ToTensor(),\n",
        "     transforms.Normalize((0.5, 0.5, 0.5), (0.5, 0.5, 0.5))]\n",
        ")\n",
        "\n",
        "# CIFAR-10 dataset\n",
        "train_set = torchvision.datasets.CIFAR10(root='./data',\n",
        "                                        train=True,\n",
        "                                        download=True,\n",
        "                                        transform=train_transform)\n",
        "\n",
        "test_set = torchvision.datasets.CIFAR10(root='./data',\n",
        "                                       train=False,\n",
        "                                       download=True,\n",
        "                                       transform=test_transform)\n",
        "\n",
        "# Data test loader\n",
        "train_loader = torch.utils.data.DataLoader(train_set, batch_size=4,\n",
        "                                          shuffle=True, num_workers=8)\n",
        "\n",
        "test_loader = torch.utils.data.DataLoader(test_set, batch_size=4,\n",
        "                                         shuffle=False, num_workers=8)\n",
        "\n",
        "classes = ('plane', 'car', 'bird', 'cat', 'deer',\n",
        "           'dog', 'frog', 'horse', 'ship', 'truck')"
      ]
    },
    {
      "cell_type": "code",
      "execution_count": 15,
      "metadata": {
        "colab": {
          "base_uri": "https://localhost:8080/"
        },
        "id": "itL5xioGQkwC",
        "outputId": "6357beda-04e9-4245-a8ab-b2ef3ac5f7e3"
      },
      "outputs": [
        {
          "output_type": "execute_result",
          "data": {
            "text/plain": [
              "Model(\n",
              "  (conv_layer): Sequential(\n",
              "    (0): Conv2d(3, 32, kernel_size=(3, 3), stride=(1, 1), padding=(1, 1))\n",
              "    (1): BatchNorm2d(32, eps=1e-05, momentum=0.1, affine=True, track_running_stats=True)\n",
              "    (2): ReLU(inplace=True)\n",
              "    (3): Conv2d(32, 64, kernel_size=(3, 3), stride=(1, 1), padding=(1, 1))\n",
              "    (4): ReLU(inplace=True)\n",
              "    (5): MaxPool2d(kernel_size=2, stride=2, padding=0, dilation=1, ceil_mode=False)\n",
              "    (6): Conv2d(64, 128, kernel_size=(3, 3), stride=(1, 1), padding=(1, 1))\n",
              "    (7): BatchNorm2d(128, eps=1e-05, momentum=0.1, affine=True, track_running_stats=True)\n",
              "    (8): ReLU(inplace=True)\n",
              "    (9): MaxPool2d(kernel_size=2, stride=2, padding=0, dilation=1, ceil_mode=False)\n",
              "    (10): Conv2d(128, 256, kernel_size=(3, 3), stride=(1, 1), padding=(1, 1))\n",
              "    (11): ReLU(inplace=True)\n",
              "    (12): MaxPool2d(kernel_size=2, stride=2, padding=0, dilation=1, ceil_mode=False)\n",
              "  )\n",
              "  (fc_layer): Sequential(\n",
              "    (0): Dropout(p=0.1, inplace=False)\n",
              "    (1): Linear(in_features=4096, out_features=1024, bias=True)\n",
              "    (2): ReLU(inplace=True)\n",
              "    (3): Linear(in_features=1024, out_features=512, bias=True)\n",
              "    (4): ReLU(inplace=True)\n",
              "    (5): Dropout(p=0.1, inplace=False)\n",
              "    (6): Linear(in_features=512, out_features=10, bias=True)\n",
              "  )\n",
              ")"
            ]
          },
          "metadata": {},
          "execution_count": 15
        }
      ],
      "source": [
        "class Model(nn.Module):\n",
        "    def __init__(self):\n",
        "        super().__init__()\n",
        "\n",
        "        self.conv_layer = nn.Sequential(\n",
        "            nn.Conv2d(in_channels=3, out_channels=32, kernel_size=3, padding=1),\n",
        "            nn.BatchNorm2d(32),\n",
        "            nn.ReLU(inplace=True),\n",
        "            # nn.MaxPool2d(kernel_size=2, stride=2),\n",
        "\n",
        "            nn.Conv2d(in_channels=32, out_channels=64, kernel_size=3, padding=1),\n",
        "            # nn.BatchNorm2d(64),\n",
        "            nn.ReLU(inplace=True),\n",
        "            nn.MaxPool2d(kernel_size=2, stride=2),\n",
        "\n",
        "            nn.Conv2d(in_channels=64, out_channels=128, kernel_size=3, padding=1),\n",
        "            nn.BatchNorm2d(128),\n",
        "            nn.ReLU(inplace=True),\n",
        "            nn.MaxPool2d(kernel_size=2, stride=2),\n",
        "\n",
        "            nn.Conv2d(in_channels=128, out_channels=256, kernel_size=3, padding=1),\n",
        "            # nn.BatchNorm2d(256),\n",
        "            nn.ReLU(inplace=True),\n",
        "            nn.MaxPool2d(kernel_size=2, stride=2),\n",
        "        )\n",
        "\n",
        "        self.fc_layer = nn.Sequential(\n",
        "            nn.Dropout(p=0.1),\n",
        "            \n",
        "            nn.Linear(4096, 1024),\n",
        "            nn.ReLU(inplace=True),\n",
        "\n",
        "            nn.Linear(1024, 512),\n",
        "            nn.ReLU(inplace=True),\n",
        "\n",
        "            nn.Dropout(p=0.1),\n",
        "\n",
        "            nn.Linear(512, 10),\n",
        "        )\n",
        "\n",
        "    def forward(self, x):\n",
        "        x = self.conv_layer(x)\n",
        "        x = x.view(x.size(0), -1)\n",
        "        x = self.fc_layer(x)\n",
        "        return x\n",
        "\n",
        "model = Model()\n",
        "model.to(device)"
      ]
    },
    {
      "cell_type": "code",
      "execution_count": 16,
      "metadata": {
        "id": "zmQS2SQhT7Gf"
      },
      "outputs": [],
      "source": [
        "# Loss and optimizer\n",
        "\n",
        "loss_function = nn.CrossEntropyLoss()\n",
        "optimizer = optim.SGD(model.parameters(), lr=0.001)\n",
        "# optimizer = optim.Adam(model.parameters(), lr=0.001, weight_decay=0.0005)"
      ]
    },
    {
      "cell_type": "code",
      "execution_count": 17,
      "metadata": {
        "colab": {
          "base_uri": "https://localhost:8080/"
        },
        "id": "zNon0m5cUELl",
        "outputId": "199e1171-ad2b-4a02-bc4b-c1125b6f9a76"
      },
      "outputs": [
        {
          "output_type": "stream",
          "name": "stderr",
          "text": [
            "/usr/local/lib/python3.7/dist-packages/torch/utils/data/dataloader.py:481: UserWarning: This DataLoader will create 8 worker processes in total. Our suggested max number of worker in current system is 2, which is smaller than what this DataLoader is going to create. Please be aware that excessive worker creation might get DataLoader running slow or even freeze, lower the worker number to avoid potential slowness/freeze if necessary.\n",
            "  cpuset_checked))\n"
          ]
        },
        {
          "output_type": "stream",
          "name": "stdout",
          "text": [
            "[1,  2000] loss: 2.195\n",
            "[1,  4000] loss: 1.827\n",
            "[1,  6000] loss: 1.669\n",
            "[1,  8000] loss: 1.555\n",
            "[1, 10000] loss: 1.496\n",
            "[1, 12000] loss: 1.423\n",
            "[2,  2000] loss: 1.298\n",
            "[2,  4000] loss: 1.221\n",
            "[2,  6000] loss: 1.175\n",
            "[2,  8000] loss: 1.125\n",
            "[2, 10000] loss: 1.082\n",
            "[2, 12000] loss: 1.058\n",
            "[3,  2000] loss: 0.976\n",
            "[3,  4000] loss: 0.957\n",
            "[3,  6000] loss: 0.959\n",
            "[3,  8000] loss: 0.918\n",
            "[3, 10000] loss: 0.903\n",
            "[3, 12000] loss: 0.889\n",
            "[4,  2000] loss: 0.829\n",
            "[4,  4000] loss: 0.813\n",
            "[4,  6000] loss: 0.827\n",
            "[4,  8000] loss: 0.818\n",
            "[4, 10000] loss: 0.801\n",
            "[4, 12000] loss: 0.776\n",
            "[5,  2000] loss: 0.736\n",
            "[5,  4000] loss: 0.731\n",
            "[5,  6000] loss: 0.752\n",
            "[5,  8000] loss: 0.739\n",
            "[5, 10000] loss: 0.708\n",
            "[5, 12000] loss: 0.692\n",
            "[6,  2000] loss: 0.668\n",
            "[6,  4000] loss: 0.671\n",
            "[6,  6000] loss: 0.661\n",
            "[6,  8000] loss: 0.670\n",
            "[6, 10000] loss: 0.644\n",
            "[6, 12000] loss: 0.634\n",
            "[7,  2000] loss: 0.593\n",
            "[7,  4000] loss: 0.600\n",
            "[7,  6000] loss: 0.620\n",
            "[7,  8000] loss: 0.606\n",
            "[7, 10000] loss: 0.599\n",
            "[7, 12000] loss: 0.594\n",
            "[8,  2000] loss: 0.550\n",
            "[8,  4000] loss: 0.558\n",
            "[8,  6000] loss: 0.549\n",
            "[8,  8000] loss: 0.558\n",
            "[8, 10000] loss: 0.570\n",
            "[8, 12000] loss: 0.567\n",
            "[9,  2000] loss: 0.517\n",
            "[9,  4000] loss: 0.518\n",
            "[9,  6000] loss: 0.511\n",
            "[9,  8000] loss: 0.540\n",
            "[9, 10000] loss: 0.480\n",
            "[9, 12000] loss: 0.512\n",
            "[10,  2000] loss: 0.477\n",
            "[10,  4000] loss: 0.466\n",
            "[10,  6000] loss: 0.475\n",
            "[10,  8000] loss: 0.470\n",
            "[10, 10000] loss: 0.475\n",
            "[10, 12000] loss: 0.494\n",
            "[11,  2000] loss: 0.427\n",
            "[11,  4000] loss: 0.443\n",
            "[11,  6000] loss: 0.426\n",
            "[11,  8000] loss: 0.461\n",
            "[11, 10000] loss: 0.450\n",
            "[11, 12000] loss: 0.458\n",
            "[12,  2000] loss: 0.397\n",
            "[12,  4000] loss: 0.417\n",
            "[12,  6000] loss: 0.426\n",
            "[12,  8000] loss: 0.407\n",
            "[12, 10000] loss: 0.415\n",
            "[12, 12000] loss: 0.414\n",
            "[13,  2000] loss: 0.373\n",
            "[13,  4000] loss: 0.390\n",
            "[13,  6000] loss: 0.367\n",
            "[13,  8000] loss: 0.402\n",
            "[13, 10000] loss: 0.396\n",
            "[13, 12000] loss: 0.399\n",
            "[14,  2000] loss: 0.349\n",
            "[14,  4000] loss: 0.338\n",
            "[14,  6000] loss: 0.370\n",
            "[14,  8000] loss: 0.345\n",
            "[14, 10000] loss: 0.363\n",
            "[14, 12000] loss: 0.387\n",
            "[15,  2000] loss: 0.319\n",
            "[15,  4000] loss: 0.337\n",
            "[15,  6000] loss: 0.326\n",
            "[15,  8000] loss: 0.332\n",
            "[15, 10000] loss: 0.349\n",
            "[15, 12000] loss: 0.344\n",
            "[16,  2000] loss: 0.307\n",
            "[16,  4000] loss: 0.315\n",
            "[16,  6000] loss: 0.306\n",
            "[16,  8000] loss: 0.324\n",
            "[16, 10000] loss: 0.295\n",
            "[16, 12000] loss: 0.313\n",
            "[17,  2000] loss: 0.281\n",
            "[17,  4000] loss: 0.280\n",
            "[17,  6000] loss: 0.288\n",
            "[17,  8000] loss: 0.284\n",
            "[17, 10000] loss: 0.289\n",
            "[17, 12000] loss: 0.298\n",
            "[18,  2000] loss: 0.261\n",
            "[18,  4000] loss: 0.271\n",
            "[18,  6000] loss: 0.270\n",
            "[18,  8000] loss: 0.278\n",
            "[18, 10000] loss: 0.274\n",
            "[18, 12000] loss: 0.248\n",
            "[19,  2000] loss: 0.225\n",
            "[19,  4000] loss: 0.238\n",
            "[19,  6000] loss: 0.236\n",
            "[19,  8000] loss: 0.249\n",
            "[19, 10000] loss: 0.258\n",
            "[19, 12000] loss: 0.262\n",
            "[20,  2000] loss: 0.218\n",
            "[20,  4000] loss: 0.219\n",
            "[20,  6000] loss: 0.228\n",
            "[20,  8000] loss: 0.237\n",
            "[20, 10000] loss: 0.247\n",
            "[20, 12000] loss: 0.221\n",
            "[21,  2000] loss: 0.198\n",
            "[21,  4000] loss: 0.207\n",
            "[21,  6000] loss: 0.205\n",
            "[21,  8000] loss: 0.202\n",
            "[21, 10000] loss: 0.219\n",
            "[21, 12000] loss: 0.223\n",
            "[22,  2000] loss: 0.175\n",
            "[22,  4000] loss: 0.183\n",
            "[22,  6000] loss: 0.196\n",
            "[22,  8000] loss: 0.195\n",
            "[22, 10000] loss: 0.206\n",
            "[22, 12000] loss: 0.204\n",
            "[23,  2000] loss: 0.162\n",
            "[23,  4000] loss: 0.176\n",
            "[23,  6000] loss: 0.170\n",
            "[23,  8000] loss: 0.177\n",
            "[23, 10000] loss: 0.172\n",
            "[23, 12000] loss: 0.183\n",
            "[24,  2000] loss: 0.158\n",
            "[24,  4000] loss: 0.160\n",
            "[24,  6000] loss: 0.166\n",
            "[24,  8000] loss: 0.170\n",
            "[24, 10000] loss: 0.170\n",
            "[24, 12000] loss: 0.163\n",
            "[25,  2000] loss: 0.139\n",
            "[25,  4000] loss: 0.136\n",
            "[25,  6000] loss: 0.150\n",
            "[25,  8000] loss: 0.151\n",
            "[25, 10000] loss: 0.162\n",
            "[25, 12000] loss: 0.154\n"
          ]
        }
      ],
      "source": [
        "# Train the model\n",
        "\n",
        "num_epochs = 25\n",
        "\n",
        "for epoch in range(num_epochs):\n",
        "    running_loss = 0.0\n",
        "    for i, data in enumerate(train_loader, 0):\n",
        "        inputs, labels = data[0].to(device), data[1].to(device)\n",
        "        optimizer.zero_grad()\n",
        "\n",
        "        outputs = model(inputs)\n",
        "        loss = loss_function(outputs, labels)\n",
        "        loss.backward()\n",
        "        optimizer.step()\n",
        "\n",
        "        running_loss += loss.item()\n",
        "        if i % 2000 == 1999:\n",
        "            print('[%d, %5d] loss: %.3f' %\n",
        "                  (epoch + 1, i + 1, running_loss / 2000))\n",
        "            running_loss = 0.0"
      ]
    },
    {
      "cell_type": "code",
      "execution_count": 18,
      "metadata": {
        "id": "xkMVIupqVGz0",
        "colab": {
          "base_uri": "https://localhost:8080/"
        },
        "outputId": "37974c34-70ca-4dc0-cae7-9b44042b309d"
      },
      "outputs": [
        {
          "output_type": "stream",
          "name": "stderr",
          "text": [
            "/usr/local/lib/python3.7/dist-packages/torch/utils/data/dataloader.py:481: UserWarning: This DataLoader will create 8 worker processes in total. Our suggested max number of worker in current system is 2, which is smaller than what this DataLoader is going to create. Please be aware that excessive worker creation might get DataLoader running slow or even freeze, lower the worker number to avoid potential slowness/freeze if necessary.\n",
            "  cpuset_checked))\n"
          ]
        },
        {
          "output_type": "stream",
          "name": "stdout",
          "text": [
            "Test Accuracy of the model: 82.84%\n"
          ]
        }
      ],
      "source": [
        "# Test the model\n",
        "\n",
        "correct = 0\n",
        "total = 0\n",
        "\n",
        "with torch.no_grad():\n",
        "    for data in test_loader:\n",
        "        images, labels = data[0].to(device), data[1].to(device)\n",
        "\n",
        "        outputs = model(images)\n",
        "        _, predicted = torch.max(outputs.data, 1)\n",
        "\n",
        "        total += labels.size(0)\n",
        "        correct += (predicted == labels).sum().item()\n",
        "\n",
        "print('Test Accuracy of the model: %.2f%%' % (100 * correct / total))"
      ]
    },
    {
      "cell_type": "code",
      "execution_count": 19,
      "metadata": {
        "id": "76wFMtC-Oz6I",
        "colab": {
          "base_uri": "https://localhost:8080/",
          "height": 203
        },
        "outputId": "ec33a06b-80f2-4216-d8a3-2a87bafbf607"
      },
      "outputs": [
        {
          "output_type": "stream",
          "name": "stderr",
          "text": [
            "/usr/local/lib/python3.7/dist-packages/torch/utils/data/dataloader.py:481: UserWarning: This DataLoader will create 8 worker processes in total. Our suggested max number of worker in current system is 2, which is smaller than what this DataLoader is going to create. Please be aware that excessive worker creation might get DataLoader running slow or even freeze, lower the worker number to avoid potential slowness/freeze if necessary.\n",
            "  cpuset_checked))\n"
          ]
        },
        {
          "output_type": "display_data",
          "data": {
            "image/png": "[encoded data removed]",
            "text/plain": [
              "<Figure size 1800x288 with 4 Axes>"
            ]
          },
          "metadata": {}
        }
      ],
      "source": [
        "%matplotlib inline\n",
        "\n",
        "def imshow(img):\n",
        "    img = img / 2 + 0.5 \n",
        "    plt.imshow(np.transpose(img, (1, 2, 0))) \n",
        "\n",
        "dataiter = iter(train_loader)\n",
        "images, labels = dataiter.next()\n",
        "images = images.numpy()\n",
        "\n",
        "fig = plt.figure(figsize=(25, 4))\n",
        "\n",
        "for idx in range(len(images)):\n",
        "    ax = fig.add_subplot(2, 10, idx + 1, xticks=[], yticks=[])\n",
        "    imshow(images[idx])\n",
        "    ax.set_title(classes[labels[idx]])"
      ]
    }
  ],
  "metadata": {
    "accelerator": "GPU",
    "colab": {
      "name": "task4_Pogozhelskaya.ipynb",
      "provenance": [],
      "include_colab_link": true
    },
    "kernelspec": {
      "display_name": "Python 3",
      "name": "python3"
    },
    "language_info": {
      "name": "python"
    }
  },
  "nbformat": 4,
  "nbformat_minor": 0
}