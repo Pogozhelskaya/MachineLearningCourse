{
  "nbformat": 4,
  "nbformat_minor": 0,
  "metadata": {
    "colab": {
      "name": "Task_3.ipynb",
      "provenance": [],
      "authorship_tag": "ABX9TyPRvPifMo2cq0uMg94kykyl"
    },
    "kernelspec": {
      "display_name": "Python 3",
      "name": "python3"
    },
    "language_info": {
      "name": "python"
    }
  },
  "cells": [
    {
      "cell_type": "code",
      "metadata": {
        "id": "B5ItSvdY1pHQ"
      },
      "source": [
        "import numpy as np\n",
        "import pandas as pd\n",
        "import collections\n",
        "from scipy import sparse"
      ],
      "execution_count": 5,
      "outputs": []
    },
    {
      "cell_type": "code",
      "metadata": {
        "colab": {
          "base_uri": "https://localhost:8080/"
        },
        "id": "Bsvr6cGlz37u",
        "outputId": "f7bfe0b5-01a9-4189-b45e-ba5dc87ed529"
      },
      "source": [
        "!wget https://snap.stanford.edu/data/loc-gowalla_edges.txt.gz\n",
        "!gzip -d loc-gowalla_edges.txt.gz\n",
        "!wget https://snap.stanford.edu/data/loc-gowalla_totalCheckins.txt.gz\n",
        "!gzip -d loc-gowalla_totalCheckins.txt.gz > /devnull"
      ],
      "execution_count": null,
      "outputs": [
        {
          "name": "stdout",
          "output_type": "stream",
          "text": [
            "--2021-11-03 15:07:54--  https://snap.stanford.edu/data/loc-gowalla_edges.txt.gz\n",
            "Resolving snap.stanford.edu (snap.stanford.edu)... 171.64.75.80\n",
            "Connecting to snap.stanford.edu (snap.stanford.edu)|171.64.75.80|:443... connected.\n",
            "HTTP request sent, awaiting response... 200 OK\n",
            "Length: 6351523 (6.1M) [application/x-gzip]\n",
            "Saving to: ‘loc-gowalla_edges.txt.gz’\n",
            "\n",
            "loc-gowalla_edges.t 100%[===================>]   6.06M  21.8MB/s    in 0.3s    \n",
            "\n",
            "2021-11-03 15:07:54 (21.8 MB/s) - ‘loc-gowalla_edges.txt.gz’ saved [6351523/6351523]\n",
            "\n",
            "--2021-11-03 15:07:55--  https://snap.stanford.edu/data/loc-gowalla_totalCheckins.txt.gz\n",
            "Resolving snap.stanford.edu (snap.stanford.edu)... 171.64.75.80\n",
            "Connecting to snap.stanford.edu (snap.stanford.edu)|171.64.75.80|:443... connected.\n",
            "HTTP request sent, awaiting response... 200 OK\n",
            "Length: 105470044 (101M) [application/x-gzip]\n",
            "Saving to: ‘loc-gowalla_totalCheckins.txt.gz’\n",
            "\n",
            "loc-gowalla_totalCh 100%[===================>] 100.58M  34.2MB/s    in 2.9s    \n",
            "\n",
            "2021-11-03 15:07:58 (34.2 MB/s) - ‘loc-gowalla_totalCheckins.txt.gz’ saved [105470044/105470044]\n",
            "\n"
          ]
        }
      ]
    },
    {
      "cell_type": "code",
      "metadata": {
        "colab": {
          "base_uri": "https://localhost:8080/"
        },
        "id": "y7ocEiR_1j3X",
        "outputId": "1c183da8-1baa-4f12-8bec-84d171b79e2c"
      },
      "source": [
        "graph = pd.read_csv('loc-gowalla_edges.txt', sep = '\\t',  names=['source', 'dest'])\n",
        "N = 500\n",
        "source = graph['source'].values\n",
        "source = source[source < N]\n",
        "dest = graph['dest'].values\n",
        "dest = dest[dest < N]\n",
        "data = np.ones(source.shape[0], dtype=np.float64)\n",
        "S = sparse.csr_matrix((data, (source, dest)), shape=(N, N))\n",
        "S.setdiag(-1.0)"
      ],
      "execution_count": 2,
      "outputs": [
        {
          "output_type": "stream",
          "name": "stderr",
          "text": [
            "/usr/local/lib/python3.7/dist-packages/scipy/sparse/_index.py:126: SparseEfficiencyWarning: Changing the sparsity structure of a csr_matrix is expensive. lil_matrix is more efficient.\n",
            "  self._set_arrayXarray(i, j, x)\n"
          ]
        }
      ]
    },
    {
      "cell_type": "code",
      "metadata": {
        "id": "uHQju_JiTYP7"
      },
      "source": [
        "%%capture --no-stdout\n",
        "\n",
        "A = sparse.csr_matrix((np.zeros(source.shape[0], dtype=np.float32), (source, dest)), shape=(N, N))\n",
        "\n",
        "R = sparse.csr_matrix((np.zeros(source.shape[0], dtype=np.float32), (source, dest)), shape=(N, N))\n",
        "\n",
        "max_iterations = 29\n",
        "\n",
        "for n in range(max_iterations):\n",
        "    to_max = S + A\n",
        "    tmp = to_max.copy()\n",
        "\n",
        "    max_indices = np.asarray(np.argmax(to_max, axis=-1)).flatten()\n",
        "    max_array = np.asarray(to_max[np.arange(N), max_indices]).flatten()\n",
        "\n",
        "    tmp[np.arange(N), max_indices] = -np.inf\n",
        "\n",
        "    prev_max_indices = np.asarray(np.argmax(tmp, -1)).flatten()\n",
        "    prev_max_array = np.asarray(to_max[np.arange(N), prev_max_indices]).flatten()\n",
        "    \n",
        "    for idx, (i, j) in enumerate(zip(R.indptr, R.indptr[1:])):\n",
        "        R.data[i:j] = S.data[i:j] - max_array[idx]\n",
        "        if max_indices[idx] in R.indices[i:j]:\n",
        "            R[idx, max_indices[idx]] = S[idx, max_indices[idx]] - prev_max_array[idx]\n",
        "\n",
        "    A = R.copy()\n",
        "    A.setdiag(0)\n",
        "    A[A < 0] = 0\n",
        "    sums = np.asarray(np.sum(A, axis=0)).flatten()\n",
        "    sums_d = R.diagonal() + sums\n",
        "    A.data = np.minimum(0, sums_d[A.indices] - A.data)\n",
        "    A.setdiag(sums)\n",
        "\n",
        "result = A + R\n",
        "labels = [np.argmax(result[i]) for i in range(N)]"
      ],
      "execution_count": 3,
      "outputs": []
    },
    {
      "cell_type": "code",
      "metadata": {
        "id": "urXnfta40yYB"
      },
      "source": [
        "checkins = pd.read_csv('loc-gowalla_totalCheckins.txt', delimiter = '\\t', names = ['user', 'time', 'latitude', 'longitude', 'location_id'])\n",
        "users = checkins['user'].unique()\n",
        "users = users[users < N]\n",
        "np.random.shuffle(users)\n",
        "test_users = users[:len(users) // 10]\n",
        "\n",
        "clusters = defaultdict(list)\n",
        "for user, i in enumerate(labels):\n",
        "  if user not in test_users:\n",
        "    clusters[i].append(user)\n",
        "\n",
        "loc_counter = defaultdict(collections.Counter)\n",
        "for i, vals in clusters.items():\n",
        "    data = checkins[checkins['user'].isin(vals)]['location_id'].values\n",
        "    loc_counter[i].update(data)"
      ],
      "execution_count": 7,
      "outputs": []
    },
    {
      "cell_type": "code",
      "metadata": {
        "colab": {
          "base_uri": "https://localhost:8080/"
        },
        "id": "SwkW4sIg07ls",
        "outputId": "7d4ae9fc-9705-42ee-e10e-1cf8570f29c5"
      },
      "source": [
        "accuracies = []\n",
        "for user in test_users:\n",
        "    i = labels[user]\n",
        "    accuracy = len(set([location_id for location_id, _ in loc_counter[i].most_common(10)])\n",
        "                    & set(checkins[checkins['user'] == user]['location_id'].values)) / 10\n",
        "    accuracies.append(accuracy)\n",
        "print(f'accuracy: {np.mean(accuracies)}')"
      ],
      "execution_count": 8,
      "outputs": [
        {
          "output_type": "stream",
          "name": "stdout",
          "text": [
            "accuracy: 0.035555555555555556\n"
          ]
        }
      ]
    }
  ]
}